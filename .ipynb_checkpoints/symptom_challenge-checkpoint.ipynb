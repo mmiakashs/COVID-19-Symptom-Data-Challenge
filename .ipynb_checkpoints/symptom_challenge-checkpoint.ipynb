{
 "cells": [
  {
   "cell_type": "code",
   "execution_count": 5,
   "metadata": {},
   "outputs": [],
   "source": [
    "# function to input files into a list\n",
    "\n",
    "file.inputl <- function(my.path)\n",
    "{\n",
    "    my.dir <- getwd()\n",
    "    setwd(my.path)\n",
    "    my.files <- list.files(pattern=\".csv\")\n",
    "    print(my.files)\n",
    "    acts <- lapply(my.files,read.csv)\n",
    "    setwd(my.dir)\n",
    "    return(acts)\n",
    "}\n",
    "\n",
    "# Function to create a data frame as the combination of multiple data frames in a list.\n",
    "\n",
    "\n",
    "combine.data <- function(Data.List, Vars)\n",
    "{\n",
    "    DF <- rbind(Data.List[[1]][, Vars])\n",
    "    for(i in 2:length(Data.List))\n",
    "    {\n",
    "        DF <- rbind(DF, Data.List[[i]][, Vars])\n",
    "    }\n",
    "    DF\n",
    "}"
   ]
  },
  {
   "cell_type": "code",
   "execution_count": 6,
   "metadata": {},
   "outputs": [
    {
     "name": "stdout",
     "output_type": "stream",
     "text": [
      "[1] \"04_april_country_full_smoothed.csv\"  \"05_may_country_full_smoothed.csv\"   \n",
      "[3] \"06_june_country_full_smoothed.csv\"   \"07_july_country_full_smoothed.csv\"  \n",
      "[5] \"08_august_country_full_smoothed.csv\" \"09_sept_country_full_smoothed.csv\"  \n"
     ]
    },
    {
     "ename": "ERROR",
     "evalue": "Error in is.data.frame(x): object 'global_data_filelist' not found\n",
     "output_type": "error",
     "traceback": [
      "Error in is.data.frame(x): object 'global_data_filelist' not found\nTraceback:\n",
      "1. intersect(colnames(global_data_filelist[[1]]), colnames(global_data_filelist[[5]]))",
      "2. as.vector(y)",
      "3. colnames(global_data_filelist[[5]])",
      "4. is.data.frame(x)"
     ]
    }
   ],
   "source": [
    "data_dir <- '/media/akashs/MAMA/covid'\n",
    "\n",
    "global_data_files <- file.inputl(data_dir)\n",
    "\n",
    "comvar <- intersect(colnames(global_data_files[[1]]), colnames(global_data_files[[5]]))\n",
    "# print(comvar)\n",
    "\n",
    "# the combined data frame\n",
    "global_data <- combine.data(global_data_files,comvar)\n",
    "dim(global_data)"
   ]
  },
  {
   "cell_type": "code",
   "execution_count": 17,
   "metadata": {},
   "outputs": [
    {
     "data": {
      "text/html": [
       "<ol class=list-inline>\n",
       "\t<li>0</li>\n",
       "\t<li>102</li>\n",
       "</ol>\n"
      ],
      "text/latex": [
       "\\begin{enumerate*}\n",
       "\\item 0\n",
       "\\item 102\n",
       "\\end{enumerate*}\n"
      ],
      "text/markdown": [
       "1. 0\n",
       "2. 102\n",
       "\n",
       "\n"
      ],
      "text/plain": [
       "[1]   0 102"
      ]
     },
     "metadata": {},
     "output_type": "display_data"
    }
   ],
   "source": [
    "dim(global_data[global_data$country=='USA',])"
   ]
  }
 ],
 "metadata": {
  "kernelspec": {
   "display_name": "R",
   "language": "R",
   "name": "ir"
  },
  "language_info": {
   "codemirror_mode": "r",
   "file_extension": ".r",
   "mimetype": "text/x-r-source",
   "name": "R",
   "pygments_lexer": "r",
   "version": "3.6.1"
  }
 },
 "nbformat": 4,
 "nbformat_minor": 2
}
